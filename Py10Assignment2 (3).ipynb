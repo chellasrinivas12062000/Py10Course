{
 "cells": [
  {
   "cell_type": "code",
   "execution_count": 1,
   "metadata": {
    "scrolled": true
   },
   "outputs": [
    {
     "name": "stdout",
     "output_type": "stream",
     "text": [
      "15\n"
     ]
    }
   ],
   "source": [
    "'''1.1\n",
    "Write a Python Program to implement your own myreduce() function which works exactly like\n",
    "Python's built-in function reduce()'''\n",
    "\n",
    "def myreduce( function, iterator):\n",
    "    i=1\n",
    "    x=iterator[0]\n",
    "    for i in (iterator[1:]):\n",
    "        x=function(x,i)\n",
    "    return x\n",
    "def sum(a,b):\n",
    "    return a+b\n",
    "value=myreduce((lambda a,b:a+b),[1,2,3,4,5])\n",
    "print(value)\n",
    "    \n"
   ]
  },
  {
   "cell_type": "code",
   "execution_count": 2,
   "metadata": {},
   "outputs": [
    {
     "name": "stdout",
     "output_type": "stream",
     "text": [
      "[1, 2, 9, 4]\n"
     ]
    }
   ],
   "source": [
    "'''1.2\n",
    "Write a Python program to implement your own myfilter() function which works exactly like\n",
    "Python's built-in function filter()'''\n",
    "\n",
    "def myfilter(function,sequence):\n",
    "    List=[]\n",
    "    for i in sequence:\n",
    "        if(function(i)==True):\n",
    "            List.append(i)\n",
    "    return List\n",
    "def Realno(a):\n",
    "    if a<=0:\n",
    "        return False\n",
    "    else:\n",
    "        return True\n",
    "value=myfilter(Realno,[1,-1,2,0,9,4,-2.5,-7])\n",
    "print(value)"
   ]
  },
  {
   "cell_type": "code",
   "execution_count": 6,
   "metadata": {},
   "outputs": [
    {
     "name": "stdout",
     "output_type": "stream",
     "text": [
      "['A', 'C', 'A', 'D', 'G', 'I', 'L', 'D']\n",
      "['x','y','z'] => ['x', 'xx', 'xxx', 'xxxx', 'y', 'yy', 'yyy', 'yyyy', 'z', 'zz', 'zzz', 'zzzz']\n",
      "['x','y','z'] => ['x', 'y', 'z', 'xx', 'yy', 'zz', 'xxx', 'yyy', 'zzz', 'xxxx', 'yyyy', 'zzzz']\n",
      "[2,3,4] =>[[2], [3], [4], [3], [4], [5], [4], [5], [6]]\n",
      "[2,3,4,5] =>[[2, 3, 4, 5], [3, 4, 5, 6], [4, 5, 6, 7], [5, 6, 7, 8]]\n",
      "[1,2,3] =>[(1, 1), (2, 1), (3, 1), (1, 2), (2, 2), (3, 2), (1, 3), (2, 3), (3, 3)]\n"
     ]
    }
   ],
   "source": [
    "'''2.\n",
    "Implement List comprehensions to produce the following lists.\n",
    "Write List comprehensions to produce the following Lists\n",
    "['A', 'C', 'A', 'D', 'G', 'I', ’L’, ‘ D’]\n",
    "['x', 'xx', 'xxx', 'xxxx', 'y', 'yy', 'yyy', 'yyyy', 'z', 'zz', 'zzz', 'zzzz']\n",
    "['x', 'y', 'z', 'xx', 'yy', 'zz', 'xx', 'yy', 'zz', 'xxxx', 'yyyy', 'zzzz']\n",
    "[[2], [3], [4], [3], [4], [5], [4], [5], [6]]\n",
    "[[2, 3, 4, 5], [3, 4, 5, 6], [4, 5, 6, 7], [5, 6, 7, 8]]\n",
    "[(1, 1), (2, 1), (3, 1), (1, 2), (2, 2), (3, 2), (1, 3), (2, 3), (3, 3)]'''\n",
    "\n",
    "a=[x.upper() for x in ['a','c','a','d','g','i','l','d']]\n",
    "print(a)\n",
    "\n",
    "\n",
    "input_list = ['x','y','z']\n",
    "result = [ item*num for item in input_list for num in range(1,5)  ]\n",
    "print(\"['x','y','z'] => \" +   str(result))\n",
    "\n",
    "\n",
    "input_list = ['x','y','z']\n",
    "result = [ item*num for num in range(1,5) for item in input_list  ]\n",
    "print(\"['x','y','z'] => \" +   str(result))\n",
    "\n",
    "input_list = [2,3,4]\n",
    "result = [ [item+num] for item in input_list for num in range(0,3)]\n",
    "print(\"[2,3,4] =>\" +  str(result))\n",
    "\n",
    "input_list = [2,3,4,5]\n",
    "result = [ [item+num for item in input_list] for num in range(0,4)  ]\n",
    "print(\"[2,3,4,5] =>\" +  str(result))\n",
    "\n",
    "input_list=[1,2,3]\n",
    "result = [ (b,a) for a in input_list for b in input_list]\n",
    "print(\"[1,2,3] =>\" +  str(result))\n",
    "\n"
   ]
  },
  {
   "cell_type": "code",
   "execution_count": 2,
   "metadata": {},
   "outputs": [
    {
     "name": "stdout",
     "output_type": "stream",
     "text": [
      "Enter the range of the list : 2\n",
      "Enter 1'st word:srinu\n",
      "Enter 2'st word:venkatesh\n",
      "Longest word is  :-  venkatesh\n"
     ]
    }
   ],
   "source": [
    "'''3.\n",
    "Implement a function longestWord() that takes a list of words and returns the longest one.'''\n",
    "\n",
    "i=0\n",
    "List=[]\n",
    "N=int(input(\"Enter the range of the list : \"))\n",
    "#print(\"Enter the members of the list :\")\n",
    "while(i<N):\n",
    "    List.append(input(\"Enter \"+str(i+1)+\"'st word:\"))\n",
    "    i+=1\n",
    "def longestWord(list):\n",
    "    l=[]\n",
    "    for i in range(0,len(List)):\n",
    "        l.append(len(List[i]))\n",
    "    for i in range(0,len(List)):\n",
    "        if(max(l)==len(List[i])):\n",
    "            print(\"Longest word is  :-  \"+List[i])\n",
    "longestWord(List)"
   ]
  },
  {
   "cell_type": "code",
   "execution_count": 13,
   "metadata": {},
   "outputs": [
    {
     "name": "stdout",
     "output_type": "stream",
     "text": [
      "Enter the lengths of the sides of triangle2\n",
      "9\n",
      "5\n",
      "(7.347880794884119e-16+12j)\n"
     ]
    }
   ],
   "source": [
    "'''Task2 Q 1.1 Write a Python Program(with class concepts) to find the area of the triangle using the below\n",
    "formula.\n",
    "area = (s*(s-a)*(s-b)*(s-c)) ** 0.5\n",
    "Function to take the length of the sides of triangle from user should be defined in the parent\n",
    "class and function to calculate the area should be defined in subclass.'''\n",
    "\n",
    "class Dim:\n",
    "    def __init__(self):\n",
    "        a=float(input(\"Enter the lengths of the sides of triangle\"))\n",
    "        b=float(input())\n",
    "        c=float(input())\n",
    "        self.a=a\n",
    "        self.b=b\n",
    "        self.c=c\n",
    "class Triangle(Dim):\n",
    "    def __init__(self,a,b,c):\n",
    "        super().__init__()\n",
    "    def Area(self):\n",
    "        a=self.a\n",
    "        b=self.b\n",
    "        c=self.c\n",
    "        s=(a+b+c)/2\n",
    "        area=(s*(s-a)*(s-b)*(s-c))**0.5\n",
    "        print(area)\n",
    "obj=Triangle(0,0,0)\n",
    "obj.Area()\n"
   ]
  },
  {
   "cell_type": "code",
   "execution_count": 11,
   "metadata": {},
   "outputs": [
    {
     "name": "stdout",
     "output_type": "stream",
     "text": [
      "Enter the range of the list2\n",
      "Enter 1'st wordff\n",
      "Enter 2'st wordfhi\n",
      "Enter the length of the word : 1\n",
      "The Words which are longer than 1 are :\n",
      "['ff', 'fhi']\n"
     ]
    }
   ],
   "source": [
    "''' 1.2 Write a function filter_long_words() that takes a list of words and an integer n and returns the list\n",
    "of words that are longer than n.\n",
    "'''\n",
    "List=[]\n",
    "N=int(input(\"Enter the range of the list\"))\n",
    "i=1\n",
    "while(i<=N):\n",
    "    List.append(input(\"Enter \"+str(i)+\"'st word\"))\n",
    "    i+=1\n",
    "n=int(input(\"Enter the length of the word : \"))\n",
    "def filter_long_words(list,n):\n",
    "    NewList=[]\n",
    "    for i in range(0,len(List)):\n",
    "            NewList.append(List[i])\n",
    "    print(\"The Words which are longer than \"+str(n)+\" are :\")\n",
    "    print(NewList)\n",
    "\n",
    "filter_long_words(List,n)"
   ]
  },
  {
   "cell_type": "code",
   "execution_count": 17,
   "metadata": {},
   "outputs": [
    {
     "name": "stdout",
     "output_type": "stream",
     "text": [
      "Enter the range of the list : 2\n",
      "Enter 1'st word:fghf\n",
      "Enter 2'st word:cfgkjh\n",
      "[4, 6]\n"
     ]
    }
   ],
   "source": [
    "'''2.1\n",
    "Write a Python program using function concept that maps list of words into a list of integers\n",
    "representing the lengths of the corresponding words.\n",
    "Hint: If a list [ ab,cde,erty] is passed on to the python function output should come as [2,3,4]\n",
    "Here 2,3 and 4 are the lengths of the words in the list.'''\n",
    "i=0\n",
    "List=[]\n",
    "N=int(input(\"Enter the range of the list : \"))\n",
    "while(i<N):\n",
    "    List.append(input(\"Enter \"+str(i+1)+\"'st word:\"))\n",
    "    i+=1\n",
    "def length_list(list):\n",
    "    LenList=[]\n",
    "    for i in range(0,len(List)):\n",
    "        LenList.append(len(List[i]))\n",
    "    print(LenList)\n",
    "length_list(List)       "
   ]
  },
  {
   "cell_type": "code",
   "execution_count": 24,
   "metadata": {},
   "outputs": [
    {
     "name": "stdout",
     "output_type": "stream",
     "text": [
      "Enter a character of length 1 : r\n"
     ]
    },
    {
     "data": {
      "text/plain": [
       "False"
      ]
     },
     "execution_count": 24,
     "metadata": {},
     "output_type": "execute_result"
    }
   ],
   "source": [
    "'''2.2\n",
    "Write a Python function which takes a character (i.e. a string of length 1) and returns True if it is\n",
    "a vowel, False otherwise.'''\n",
    "\n",
    "Character=input(\"Enter a character of length 1 : \")\n",
    "def Check_vowel(Character):\n",
    "    if(Character=='a' or Character=='e' or Character=='i' or Character=='o' or Character=='u'):\n",
    "        return True\n",
    "    else:\n",
    "        return False\n",
    "Check_vowel(Character)"
   ]
  }
 ],
 "metadata": {
  "kernelspec": {
   "display_name": "Python 3",
   "language": "python",
   "name": "python3"
  },
  "language_info": {
   "codemirror_mode": {
    "name": "ipython",
    "version": 3
   },
   "file_extension": ".py",
   "mimetype": "text/x-python",
   "name": "python",
   "nbconvert_exporter": "python",
   "pygments_lexer": "ipython3",
   "version": "3.7.6"
  }
 },
 "nbformat": 4,
 "nbformat_minor": 4
}
