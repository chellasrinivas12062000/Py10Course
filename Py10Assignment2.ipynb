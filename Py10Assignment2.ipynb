{
 "cells": [
  {
   "cell_type": "code",
   "execution_count": 163,
   "metadata": {
    "scrolled": true
   },
   "outputs": [
    {
     "name": "stdout",
     "output_type": "stream",
     "text": [
      "15\n"
     ]
    }
   ],
   "source": [
    "def myreduce( function, iterator):\n",
    "    i=1\n",
    "    x=iterator[0]\n",
    "    for i in (iterator[1:]):\n",
    "        x=function(x,i)\n",
    "    return x\n",
    "def sum(a,b):\n",
    "    return a+b\n",
    "value=myreduce((lambda a,b:a+b),[1,2,3,4,5])\n",
    "print(value)\n",
    "    \n"
   ]
  },
  {
   "cell_type": "code",
   "execution_count": 164,
   "metadata": {},
   "outputs": [
    {
     "name": "stdout",
     "output_type": "stream",
     "text": [
      "[1, 2, 9, 4]\n"
     ]
    }
   ],
   "source": [
    "def myfilter(function,sequence):\n",
    "    List=[]\n",
    "    for i in sequence:\n",
    "        if(function(i)==True):\n",
    "            List.append(i)\n",
    "    return List\n",
    "def Realno(a):\n",
    "    if a<=0:\n",
    "        return False\n",
    "    else:\n",
    "        return True\n",
    "value=myfilter(Realno,[1,-1,2,0,9,4,-2.5,-7])\n",
    "print(value)"
   ]
  },
  {
   "cell_type": "code",
   "execution_count": 206,
   "metadata": {},
   "outputs": [
    {
     "ename": "SyntaxError",
     "evalue": "invalid syntax (<ipython-input-206-5936b9f1bb99>, line 5)",
     "output_type": "error",
     "traceback": [
      "\u001b[1;36m  File \u001b[1;32m\"<ipython-input-206-5936b9f1bb99>\"\u001b[1;36m, line \u001b[1;32m5\u001b[0m\n\u001b[1;33m    b=[for x*2 in ['x','y','z']]\u001b[0m\n\u001b[1;37m         ^\u001b[0m\n\u001b[1;31mSyntaxError\u001b[0m\u001b[1;31m:\u001b[0m invalid syntax\n"
     ]
    }
   ],
   "source": [
    "'''a=[x.upper() for x in ['a','c','a','d','g','i','l','d']]\n",
    "print(a)\n",
    "'''\n",
    "\n",
    "b=[for x*2 in ['x','y','z']]\n",
    "print(b)"
   ]
  },
  {
   "cell_type": "code",
   "execution_count": 117,
   "metadata": {},
   "outputs": [
    {
     "data": {
      "text/plain": [
       "True"
      ]
     },
     "execution_count": 117,
     "metadata": {},
     "output_type": "execute_result"
    }
   ],
   "source": [
    "def checkvowel(a):\n",
    "    if(a=='a' or a=='e' or a=='i' or a=='o' or a=='u'):\n",
    "        return True\n",
    "    else:\n",
    "        return False\n",
    "checkvowel('a')"
   ]
  }
 ],
 "metadata": {
  "kernelspec": {
   "display_name": "Python 3",
   "language": "python",
   "name": "python3"
  },
  "language_info": {
   "codemirror_mode": {
    "name": "ipython",
    "version": 3
   },
   "file_extension": ".py",
   "mimetype": "text/x-python",
   "name": "python",
   "nbconvert_exporter": "python",
   "pygments_lexer": "ipython3",
   "version": "3.7.6"
  }
 },
 "nbformat": 4,
 "nbformat_minor": 4
}
